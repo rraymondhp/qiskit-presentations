{
 "cells": [
  {
   "cell_type": "markdown",
   "metadata": {},
   "source": [
    "# Programming IBM Superconducting Qubits with Qiskit  (Part 1/2)\n",
    "\n",
    "## Rudy Raymond H.P. (Doctor of Informatics, Kyoto University)\n",
    "\n",
    "## IBM Research "
   ]
  },
  {
   "cell_type": "markdown",
   "metadata": {},
   "source": [
    "Please visit www.qiskit.org for more details on an open source quantum computing framework for writing quantum experiments, programs, and applications."
   ]
  },
  {
   "cell_type": "code",
   "execution_count": 1,
   "metadata": {
    "slideshow": {
     "slide_type": "subslide"
    }
   },
   "outputs": [
    {
     "name": "stdout",
     "output_type": "stream",
     "text": [
      "Hello Taiwan, Hello NTU, Hello IBM QuaNTUm ... \n"
     ]
    }
   ],
   "source": [
    "import slides"
   ]
  },
  {
   "cell_type": "code",
   "execution_count": 3,
   "metadata": {},
   "outputs": [
    {
     "data": {
      "text/html": [
       "<img src=\"images/ntu_qiskit.jpg\" width=\"1000 px\" align=\"center\">"
      ],
      "text/plain": [
       "<IPython.core.display.HTML object>"
      ]
     },
     "execution_count": 3,
     "metadata": {},
     "output_type": "execute_result"
    }
   ],
   "source": [
    "slides.ntu()"
   ]
  },
  {
   "cell_type": "code",
   "execution_count": 4,
   "metadata": {
    "slideshow": {
     "slide_type": "slide"
    }
   },
   "outputs": [
    {
     "data": {
      "text/html": [
       "<img src=\"images/lab.jpg\" width=\"1000 px\">"
      ],
      "text/plain": [
       "<IPython.core.display.HTML object>"
      ]
     },
     "execution_count": 4,
     "metadata": {},
     "output_type": "execute_result"
    }
   ],
   "source": [
    "slides.lab()"
   ]
  },
  {
   "cell_type": "code",
   "execution_count": 5,
   "metadata": {},
   "outputs": [
    {
     "data": {
      "text/html": [
       "<img src=\"images/system.jpg\" width=\"1000 px\" align=\"center\">"
      ],
      "text/plain": [
       "<IPython.core.display.HTML object>"
      ]
     },
     "execution_count": 5,
     "metadata": {},
     "output_type": "execute_result"
    }
   ],
   "source": [
    "slides.system()"
   ]
  },
  {
   "cell_type": "code",
   "execution_count": 6,
   "metadata": {},
   "outputs": [
    {
     "data": {
      "text/html": [
       "<img src=\"images/transmon.jpg\" width=\"1000 px\" align=\"center\">"
      ],
      "text/plain": [
       "<IPython.core.display.HTML object>"
      ]
     },
     "execution_count": 6,
     "metadata": {},
     "output_type": "execute_result"
    }
   ],
   "source": [
    "slides.transmon()"
   ]
  },
  {
   "cell_type": "code",
   "execution_count": 7,
   "metadata": {},
   "outputs": [
    {
     "data": {
      "text/html": [
       "<img src=\"images/superposition.gif\" align=\"center\">"
      ],
      "text/plain": [
       "<IPython.core.display.HTML object>"
      ]
     },
     "execution_count": 7,
     "metadata": {},
     "output_type": "execute_result"
    }
   ],
   "source": [
    "slides.superposition()"
   ]
  },
  {
   "cell_type": "code",
   "execution_count": 8,
   "metadata": {},
   "outputs": [
    {
     "data": {
      "text/html": [
       "<img src=\"images/interference.gif\" align=\"center\">"
      ],
      "text/plain": [
       "<IPython.core.display.HTML object>"
      ]
     },
     "execution_count": 8,
     "metadata": {},
     "output_type": "execute_result"
    }
   ],
   "source": [
    "slides.interference()"
   ]
  },
  {
   "cell_type": "code",
   "execution_count": 9,
   "metadata": {},
   "outputs": [
    {
     "data": {
      "text/html": [
       "<img src=\"images/entenglemant.gif\" align=\"center\">"
      ],
      "text/plain": [
       "<IPython.core.display.HTML object>"
      ]
     },
     "execution_count": 9,
     "metadata": {},
     "output_type": "execute_result"
    }
   ],
   "source": [
    "slides.entangled()"
   ]
  },
  {
   "cell_type": "code",
   "execution_count": 10,
   "metadata": {},
   "outputs": [
    {
     "data": {
      "text/html": [
       "<img src=\"images/algorithm.jpg\" align=\"center\">"
      ],
      "text/plain": [
       "<IPython.core.display.HTML object>"
      ]
     },
     "execution_count": 10,
     "metadata": {},
     "output_type": "execute_result"
    }
   ],
   "source": [
    "slides.algorithm()"
   ]
  },
  {
   "cell_type": "code",
   "execution_count": 11,
   "metadata": {
    "slideshow": {
     "slide_type": "slide"
    }
   },
   "outputs": [
    {
     "data": {
      "text/plain": [
       "True"
      ]
     },
     "execution_count": 11,
     "metadata": {},
     "output_type": "execute_result"
    }
   ],
   "source": [
    "slides.ibmqx()"
   ]
  },
  {
   "cell_type": "code",
   "execution_count": 12,
   "metadata": {},
   "outputs": [
    {
     "data": {
      "text/plain": [
       "True"
      ]
     },
     "execution_count": 12,
     "metadata": {},
     "output_type": "execute_result"
    }
   ],
   "source": [
    "slides.qiskit()"
   ]
  },
  {
   "cell_type": "code",
   "execution_count": 13,
   "metadata": {},
   "outputs": [
    {
     "data": {
      "text/html": [
       "<img src=\"images/elements.jpg\" width=\"1000 px\">"
      ],
      "text/plain": [
       "<IPython.core.display.HTML object>"
      ]
     },
     "execution_count": 13,
     "metadata": {},
     "output_type": "execute_result"
    }
   ],
   "source": [
    "slides.elements()"
   ]
  },
  {
   "cell_type": "code",
   "execution_count": 14,
   "metadata": {},
   "outputs": [
    {
     "data": {
      "text/plain": [
       "True"
      ]
     },
     "execution_count": 14,
     "metadata": {},
     "output_type": "execute_result"
    }
   ],
   "source": [
    "slides.git()"
   ]
  },
  {
   "cell_type": "code",
   "execution_count": 90,
   "metadata": {},
   "outputs": [],
   "source": [
    "from qiskit import IBMQ\n",
    "#import Qconfig_IBMQ_experience\n",
    "#import Qconfig_IBMQ_network\n",
    "IBMQ.delete_accounts()\n",
    "#public account\n",
    "PubAPItoken=\"d05e9f4bd7c3c44abc479d5024349ae556b78df9dd26fc09bdae0ab12e432fd29da1ac218d0513408764fce1182d404de91e1fa4ca3f59c17da9ae5615e159e2\"\n",
    "IBMQ.save_account(PubAPItoken, overwrite=True)\n",
    "#hub account\n",
    "#config = {\n",
    "#      'url': 'https://q-console-api.mybluemix.net/api',\n",
    "#      'hub': 'ibm-q-internal',\n",
    "#      'group': 'research',\n",
    "#      'project': 'ibmq-tokyo'\n",
    "#      }\n",
    "\n",
    "#HubAPItoken = '30f9bee04302e1fa543880f72635b525f1e70ed212e43abd3a280f37ad3c2a44b8db13c57b8410da5bdabe26dc49296586745e41c46b1a215408ae31492c53fb'\n",
    "#IBMQ.save_account(HubAPItoken, config['url'])"
   ]
  },
  {
   "cell_type": "code",
   "execution_count": 91,
   "metadata": {},
   "outputs": [
    {
     "name": "stderr",
     "output_type": "stream",
     "text": [
      "/Users/rraymondhp/miniconda3/envs/QISKitenv/lib/python3.6/site-packages/qiskit/providers/ibmq/ibmqprovider.py:251: UserWarning: Credentials are already in use.\n",
      "  warnings.warn('Credentials are already in use.')\n"
     ]
    }
   ],
   "source": [
    "from qiskit import IBMQ\n",
    "IBMQ.load_accounts()\n",
    "#if there's a trouble see: https://github.com/Qiskit/qiskit-tutorial/blob/master/INSTALL.md"
   ]
  },
  {
   "cell_type": "code",
   "execution_count": 92,
   "metadata": {},
   "outputs": [
    {
     "data": {
      "text/plain": [
       "[<IBMQBackend('ibmqx4') from IBMQ()>,\n",
       " <IBMQBackend('ibmq_16_melbourne') from IBMQ()>,\n",
       " <IBMQBackend('ibmq_qasm_simulator') from IBMQ()>]"
      ]
     },
     "execution_count": 92,
     "metadata": {},
     "output_type": "execute_result"
    }
   ],
   "source": [
    "IBMQ.backends()"
   ]
  },
  {
   "cell_type": "code",
   "execution_count": 66,
   "metadata": {},
   "outputs": [
    {
     "data": {
      "text/plain": [
       "[<IBMQBackend('ibmqx4') from IBMQ()>]"
      ]
     },
     "execution_count": 66,
     "metadata": {},
     "output_type": "execute_result"
    }
   ],
   "source": [
    "IBMQ.backends(n_qubits=5)"
   ]
  },
  {
   "cell_type": "code",
   "execution_count": 38,
   "metadata": {},
   "outputs": [
    {
     "data": {
      "text/plain": [
       "<IBMQBackend('ibmqx4') from IBMQ()>"
      ]
     },
     "execution_count": 38,
     "metadata": {},
     "output_type": "execute_result"
    }
   ],
   "source": [
    "from qiskit.providers.ibmq import least_busy\n",
    "least_busy(IBMQ.backends(n_qubits=5))"
   ]
  },
  {
   "cell_type": "code",
   "execution_count": 39,
   "metadata": {},
   "outputs": [
    {
     "name": "stdout",
     "output_type": "stream",
     "text": [
      "BackendStatus(backend_name='ibmqx4', backend_version='1.0.0', operational=True, pending_jobs=4, status_msg='active')\n",
      "BackendStatus(backend_name='ibmq_16_melbourne', backend_version='1.0.0', operational=True, pending_jobs=42, status_msg='active')\n"
     ]
    }
   ],
   "source": [
    "for backend in IBMQ.backends(simulator=False):\n",
    "    print(backend.status())"
   ]
  },
  {
   "cell_type": "code",
   "execution_count": 40,
   "metadata": {
    "slideshow": {
     "slide_type": "slide"
    }
   },
   "outputs": [
    {
     "data": {
      "text/html": [
       "<img src=\"images/ibmq_qcc.jpg\" width=\"1000 px\">"
      ],
      "text/plain": [
       "<IPython.core.display.HTML object>"
      ]
     },
     "execution_count": 40,
     "metadata": {},
     "output_type": "execute_result"
    }
   ],
   "source": [
    "slides.ibmq_qcc()"
   ]
  },
  {
   "cell_type": "code",
   "execution_count": 41,
   "metadata": {
    "slideshow": {
     "slide_type": "slide"
    }
   },
   "outputs": [
    {
     "data": {
      "text/html": [
       "<img src=\"https://66.media.tumblr.com/763756ea907e30b639da239618bbe2d3/tumblr_mlotjw0e2C1r4xjo2o1_500.gif\" width=\"500 px\" align=\"center\">"
      ],
      "text/plain": [
       "<IPython.core.display.HTML object>"
      ]
     },
     "execution_count": 41,
     "metadata": {},
     "output_type": "execute_result"
    }
   ],
   "source": [
    "slides.quantum()"
   ]
  },
  {
   "cell_type": "markdown",
   "metadata": {},
   "source": [
    "thanks omgcatsinspace for the permission to use the quantum cat"
   ]
  },
  {
   "cell_type": "code",
   "execution_count": 42,
   "metadata": {
    "slideshow": {
     "slide_type": "slide"
    }
   },
   "outputs": [
    {
     "data": {
      "text/html": [
       "<img src=\"images/model.jpg\" width=\"1000 px\" align=\"center\">"
      ],
      "text/plain": [
       "<IPython.core.display.HTML object>"
      ]
     },
     "execution_count": 42,
     "metadata": {},
     "output_type": "execute_result"
    }
   ],
   "source": [
    "slides.model()"
   ]
  },
  {
   "cell_type": "code",
   "execution_count": 43,
   "metadata": {
    "collapsed": true,
    "slideshow": {
     "slide_type": "slide"
    }
   },
   "outputs": [],
   "source": [
    "from qiskit import QuantumCircuit, QuantumRegister, ClassicalRegister, execute\n",
    "from qiskit.tools.visualization import plot_histogram, circuit_drawer, plot_state\n",
    "from qiskit import Aer"
   ]
  },
  {
   "cell_type": "code",
   "execution_count": 44,
   "metadata": {
    "slideshow": {
     "slide_type": "slide"
    }
   },
   "outputs": [
    {
     "data": {
      "image/png": "[encoded data removed]",
      "text/plain": [
       "<matplotlib.figure.Figure at 0x111cc91d0>"
      ]
     },
     "execution_count": 44,
     "metadata": {},
     "output_type": "execute_result"
    }
   ],
   "source": [
    "# Quantum and Classical Registers\n",
    "q = QuantumRegister(1)\n",
    "c = ClassicalRegister(1)\n",
    "\n",
    "# Build the circuit\n",
    "qc = QuantumCircuit(q, c)\n",
    "qc.h(q)\n",
    "\n",
    "#-----\n",
    "\n",
    "qc.measure(q, c)\n",
    "\n",
    "# Execute the circuit\n",
    "backend = Aer.get_backend('qasm_simulator')\n",
    "result = execute(qc, backend, shots=1000).result()\n",
    "\n",
    "# Display the result\n",
    "plot_histogram(result.get_counts(qc))"
   ]
  },
  {
   "cell_type": "code",
   "execution_count": 45,
   "metadata": {},
   "outputs": [
    {
     "name": "stderr",
     "output_type": "stream",
     "text": [
      "/Users/rraymondhp/miniconda3/envs/QISKitenv/lib/python3.6/site-packages/qiskit/tools/visualization/_circuit_visualization.py:206: DeprecationWarning: The current behavior for the default output will change in a future release. Instead of trying latex and falling back to mpl on failure it will just use \"text\" by default\n",
      "  '\"text\" by default', DeprecationWarning)\n"
     ]
    },
    {
     "data": {
      "image/png": "[encoded data removed]",
      "text/plain": [
       "<PIL.Image.Image image mode=RGB size=312x88 at 0x109CBD588>"
      ]
     },
     "execution_count": 45,
     "metadata": {},
     "output_type": "execute_result"
    }
   ],
   "source": [
    "circuit_drawer(qc)"
   ]
  },
  {
   "cell_type": "code",
   "execution_count": 46,
   "metadata": {
    "slideshow": {
     "slide_type": "slide"
    }
   },
   "outputs": [
    {
     "name": "stderr",
     "output_type": "stream",
     "text": [
      "/Users/rraymondhp/miniconda3/envs/QISKitenv/lib/python3.6/site-packages/qiskit/tools/visualization/_circuit_visualization.py:206: DeprecationWarning: The current behavior for the default output will change in a future release. Instead of trying latex and falling back to mpl on failure it will just use \"text\" by default\n",
      "  '\"text\" by default', DeprecationWarning)\n"
     ]
    },
    {
     "data": {
      "image/png": "[encoded data removed]",
      "text/plain": [
       "<PIL.Image.Image image mode=RGB size=280x87 at 0x111CDD780>"
      ]
     },
     "execution_count": 46,
     "metadata": {},
     "output_type": "execute_result"
    }
   ],
   "source": [
    "# Quantum Registers\n",
    "q = QuantumRegister(2)\n",
    "\n",
    "# Build the circuit\n",
    "bell = QuantumCircuit(q)\n",
    "bell.h(q[0])\n",
    "bell.cx(q[0], q[1])\n",
    "\n",
    "# Draw the circuit\n",
    "circuit_drawer(bell)"
   ]
  },
  {
   "cell_type": "code",
   "execution_count": 47,
   "metadata": {},
   "outputs": [
    {
     "data": {
      "text/plain": [
       "<qiskit.circuit.instructionset.InstructionSet at 0x111d2e438>"
      ]
     },
     "execution_count": 47,
     "metadata": {},
     "output_type": "execute_result"
    }
   ],
   "source": [
    "c2 = ClassicalRegister(2)\n",
    "\n",
    "# Measurement in standard basis\n",
    "meas_zi = QuantumCircuit(q, c) \n",
    "meas_zi.measure(q[0], c[0])\n",
    "\n",
    "# Measurement in superposition basis\n",
    "meas_xi = QuantumCircuit(q, c)\n",
    "meas_xi.h(q[0])\n",
    "meas_xi.measure(q[0], c[0])\n",
    "\n",
    "# Joint measurement in standard basis\n",
    "meas_zz = QuantumCircuit(q, c2) \n",
    "meas_zz.measure(q, c2)\n",
    "\n",
    "# Join measuremen xz \n",
    "meas_xz = QuantumCircuit(q,c2)\n",
    "meas_xz.h(q[0])\n",
    "meas_xz.iden(q[1])\n",
    "meas_xz.measure(q,c2)\n",
    "\n",
    "# Joint measurement in superposition basis\n",
    "meas_xx = QuantumCircuit(q, c2) \n",
    "meas_xx.h(q)\n",
    "meas_xx.measure(q, c2)"
   ]
  },
  {
   "cell_type": "code",
   "execution_count": 48,
   "metadata": {},
   "outputs": [
    {
     "data": {
      "image/png": "[encoded data removed]",
      "text/plain": [
       "<matplotlib.figure.Figure at 0x111cd1710>"
      ]
     },
     "execution_count": 48,
     "metadata": {},
     "output_type": "execute_result"
    }
   ],
   "source": [
    "# Execute the circuit\n",
    "qc = bell + meas_xz\n",
    "result = execute(qc, backend, shots=10000).result()\n",
    "\n",
    "# Display the result\n",
    "plot_histogram(result.get_counts(qc))"
   ]
  },
  {
   "cell_type": "code",
   "execution_count": 49,
   "metadata": {},
   "outputs": [
    {
     "name": "stderr",
     "output_type": "stream",
     "text": [
      "/Users/rraymondhp/miniconda3/envs/QISKitenv/lib/python3.6/site-packages/qiskit/tools/visualization/_circuit_visualization.py:206: DeprecationWarning: The current behavior for the default output will change in a future release. Instead of trying latex and falling back to mpl on failure it will just use \"text\" by default\n",
      "  '\"text\" by default', DeprecationWarning)\n"
     ]
    },
    {
     "data": {
      "image/png": "[encoded data removed]",
      "text/plain": [
       "<PIL.Image.Image image mode=RGB size=453x182 at 0x111CC9198>"
      ]
     },
     "execution_count": 49,
     "metadata": {},
     "output_type": "execute_result"
    }
   ],
   "source": [
    "circuit_drawer(qc)"
   ]
  },
  {
   "cell_type": "code",
   "execution_count": 50,
   "metadata": {
    "slideshow": {
     "slide_type": "slide"
    }
   },
   "outputs": [
    {
     "name": "stdout",
     "output_type": "stream",
     "text": [
      "running it on  ibmqx4\n",
      "Status @ 0 seconds\n",
      "JobStatus.INITIALIZING\n",
      "None\n",
      "Status @ 10 seconds\n",
      "JobStatus.QUEUED\n",
      "1\n",
      "Status @ 20 seconds\n",
      "JobStatus.QUEUED\n",
      "1\n",
      "Status @ 30 seconds\n",
      "JobStatus.QUEUED\n",
      "1\n",
      "Status @ 40 seconds\n",
      "JobStatus.QUEUED\n",
      "1\n",
      "Status @ 50 seconds\n",
      "JobStatus.QUEUED\n",
      "1\n",
      "Status @ 60 seconds\n",
      "JobStatus.QUEUED\n",
      "1\n",
      "Status @ 70 seconds\n",
      "JobStatus.QUEUED\n",
      "1\n",
      "Status @ 80 seconds\n",
      "JobStatus.QUEUED\n",
      "1\n",
      "Status @ 90 seconds\n",
      "JobStatus.QUEUED\n",
      "1\n",
      "Status @ 100 seconds\n",
      "JobStatus.RUNNING\n",
      "0\n",
      "Status @ 110 seconds\n",
      "JobStatus.RUNNING\n",
      "0\n",
      "JobStatus.DONE\n"
     ]
    },
    {
     "data": {
      "image/png": "[encoded data removed]",
      "text/plain": [
       "<matplotlib.figure.Figure at 0x111dda4a8>"
      ]
     },
     "execution_count": 50,
     "metadata": {},
     "output_type": "execute_result"
    }
   ],
   "source": [
    "# let's choose a device and \n",
    "device = least_busy(IBMQ.backends(simulator=False))\n",
    "print('running it on ', device)\n",
    "qc = bell+meas_xx\n",
    "job = execute(qc, device)\n",
    "\n",
    "import time\n",
    "lapse = 0\n",
    "interval = 10\n",
    "while job.status().name != 'DONE':\n",
    "    print('Status @ {} seconds'.format(interval * lapse))\n",
    "    print(job.status())\n",
    "    print(job.queue_position())\n",
    "    time.sleep(interval)\n",
    "    lapse += 1\n",
    "print(job.status())\n",
    "    \n",
    "device_result = job.result()\n",
    "device_counts = device_result.get_counts()\n",
    "plot_histogram(device_counts)"
   ]
  },
  {
   "cell_type": "code",
   "execution_count": 51,
   "metadata": {
    "collapsed": true
   },
   "outputs": [],
   "source": [
    "# Build the circuit\n",
    "superpositon = QuantumCircuit(q) \n",
    "oracle = QuantumCircuit(q) \n",
    "amplitude_amp = QuantumCircuit(q) \n",
    "\n",
    "\n",
    "#Make superposition off all\n",
    "superpositon.h(q)\n",
    "\n",
    "#encode the oracle \n",
    "test = '01'\n",
    "if test == '00':\n",
    "    oracle.z(q)\n",
    "    oracle.cz(q[0], q[1])   \n",
    "if test == '10':\n",
    "    oracle.z(q[1])\n",
    "    oracle.cz(q[0], q[1])  \n",
    "if test == '01':\n",
    "    oracle.z(q[0])\n",
    "    oracle.cz(q[0], q[1])    \n",
    "if test == '11':\n",
    "    oracle.cz(q[0], q[1])\n",
    "\n",
    "\n",
    "#amplitude amplifcation\n",
    "amplitude_amp.h(q)\n",
    "amplitude_amp.z(q)\n",
    "amplitude_amp.cz(q[0], q[1])\n",
    "amplitude_amp.h(q)\n",
    "\n",
    "\n",
    "grover = superpositon+oracle+amplitude_amp\n",
    "\n",
    "qc = grover+meas_zz"
   ]
  },
  {
   "cell_type": "code",
   "execution_count": 52,
   "metadata": {},
   "outputs": [
    {
     "name": "stderr",
     "output_type": "stream",
     "text": [
      "/Users/rraymondhp/miniconda3/envs/QISKitenv/lib/python3.6/site-packages/qiskit/tools/visualization/_circuit_visualization.py:206: DeprecationWarning: The current behavior for the default output will change in a future release. Instead of trying latex and falling back to mpl on failure it will just use \"text\" by default\n",
      "  '\"text\" by default', DeprecationWarning)\n"
     ]
    },
    {
     "data": {
      "image/png": "[encoded data removed]",
      "text/plain": [
       "<PIL.Image.Image image mode=RGB size=762x182 at 0x111DEFBE0>"
      ]
     },
     "execution_count": 52,
     "metadata": {},
     "output_type": "execute_result"
    }
   ],
   "source": [
    "circuit_drawer(qc)"
   ]
  },
  {
   "cell_type": "code",
   "execution_count": 53,
   "metadata": {},
   "outputs": [
    {
     "name": "stdout",
     "output_type": "stream",
     "text": [
      "{'01': 1}\n"
     ]
    }
   ],
   "source": [
    "# Execute the circuit\n",
    "result = execute(qc, backend, shots=1).result()\n",
    "\n",
    "print(result.get_counts(qc))"
   ]
  },
  {
   "cell_type": "code",
   "execution_count": 54,
   "metadata": {
    "scrolled": false
   },
   "outputs": [
    {
     "name": "stdout",
     "output_type": "stream",
     "text": [
      "running it on  ibmqx4\n",
      "Status @ 0 seconds\n",
      "JobStatus.INITIALIZING\n",
      "None\n",
      "Status @ 10 seconds\n",
      "JobStatus.QUEUED\n",
      "9\n",
      "Status @ 20 seconds\n",
      "JobStatus.QUEUED\n",
      "9\n",
      "Status @ 30 seconds\n",
      "JobStatus.QUEUED\n",
      "9\n",
      "Status @ 40 seconds\n",
      "JobStatus.QUEUED\n",
      "8\n",
      "Status @ 50 seconds\n",
      "JobStatus.QUEUED\n",
      "8\n",
      "Status @ 60 seconds\n",
      "JobStatus.QUEUED\n",
      "8\n",
      "Status @ 70 seconds\n",
      "JobStatus.QUEUED\n",
      "8\n",
      "Status @ 80 seconds\n",
      "JobStatus.QUEUED\n",
      "8\n",
      "Status @ 90 seconds\n",
      "JobStatus.QUEUED\n",
      "8\n",
      "Status @ 100 seconds\n",
      "JobStatus.QUEUED\n",
      "8\n",
      "Status @ 110 seconds\n",
      "JobStatus.QUEUED\n",
      "8\n",
      "Status @ 120 seconds\n",
      "JobStatus.QUEUED\n",
      "7\n",
      "Status @ 130 seconds\n",
      "JobStatus.QUEUED\n",
      "7\n",
      "Status @ 140 seconds\n",
      "JobStatus.QUEUED\n",
      "7\n",
      "Status @ 150 seconds\n",
      "JobStatus.QUEUED\n",
      "8\n",
      "Status @ 160 seconds\n",
      "JobStatus.QUEUED\n",
      "8\n",
      "Status @ 170 seconds\n",
      "JobStatus.QUEUED\n",
      "8\n",
      "Status @ 180 seconds\n",
      "JobStatus.QUEUED\n",
      "8\n",
      "Status @ 190 seconds\n",
      "JobStatus.QUEUED\n",
      "7\n",
      "Status @ 200 seconds\n",
      "JobStatus.QUEUED\n",
      "7\n",
      "Status @ 210 seconds\n",
      "JobStatus.QUEUED\n",
      "7\n",
      "Status @ 220 seconds\n",
      "JobStatus.QUEUED\n",
      "7\n",
      "Status @ 230 seconds\n",
      "JobStatus.QUEUED\n",
      "6\n",
      "Status @ 240 seconds\n",
      "JobStatus.QUEUED\n",
      "6\n",
      "Status @ 250 seconds\n",
      "JobStatus.QUEUED\n",
      "6\n",
      "Status @ 260 seconds\n",
      "JobStatus.QUEUED\n",
      "6\n",
      "Status @ 270 seconds\n",
      "JobStatus.QUEUED\n",
      "6\n",
      "Status @ 280 seconds\n",
      "JobStatus.QUEUED\n",
      "6\n",
      "Status @ 290 seconds\n",
      "JobStatus.QUEUED\n",
      "6\n",
      "Status @ 300 seconds\n",
      "JobStatus.QUEUED\n",
      "5\n",
      "Status @ 310 seconds\n",
      "JobStatus.QUEUED\n",
      "5\n",
      "Status @ 320 seconds\n",
      "JobStatus.QUEUED\n",
      "5\n",
      "Status @ 330 seconds\n",
      "JobStatus.QUEUED\n",
      "5\n",
      "Status @ 340 seconds\n",
      "JobStatus.QUEUED\n",
      "4\n",
      "Status @ 350 seconds\n",
      "JobStatus.QUEUED\n",
      "3\n",
      "Status @ 360 seconds\n",
      "JobStatus.QUEUED\n",
      "3\n",
      "Status @ 370 seconds\n",
      "JobStatus.QUEUED\n",
      "3\n",
      "Status @ 380 seconds\n",
      "JobStatus.QUEUED\n",
      "3\n",
      "Status @ 390 seconds\n",
      "JobStatus.QUEUED\n",
      "3\n",
      "Status @ 400 seconds\n",
      "JobStatus.QUEUED\n",
      "3\n",
      "Status @ 410 seconds\n",
      "JobStatus.QUEUED\n",
      "3\n",
      "Status @ 420 seconds\n",
      "JobStatus.QUEUED\n",
      "3\n",
      "Status @ 430 seconds\n",
      "JobStatus.QUEUED\n",
      "2\n",
      "Status @ 440 seconds\n",
      "JobStatus.QUEUED\n",
      "2\n",
      "Status @ 450 seconds\n",
      "JobStatus.QUEUED\n",
      "2\n",
      "Status @ 460 seconds\n",
      "JobStatus.QUEUED\n",
      "2\n",
      "Status @ 470 seconds\n",
      "JobStatus.QUEUED\n",
      "2\n",
      "Status @ 480 seconds\n",
      "JobStatus.QUEUED\n",
      "2\n",
      "Status @ 490 seconds\n",
      "JobStatus.QUEUED\n",
      "2\n",
      "Status @ 500 seconds\n",
      "JobStatus.QUEUED\n",
      "2\n",
      "Status @ 510 seconds\n",
      "JobStatus.QUEUED\n",
      "1\n",
      "Status @ 520 seconds\n",
      "JobStatus.QUEUED\n",
      "1\n",
      "Status @ 530 seconds\n",
      "JobStatus.QUEUED\n",
      "1\n",
      "Status @ 540 seconds\n",
      "JobStatus.QUEUED\n",
      "1\n",
      "Status @ 550 seconds\n",
      "JobStatus.QUEUED\n",
      "1\n",
      "Status @ 560 seconds\n",
      "JobStatus.QUEUED\n",
      "1\n",
      "Status @ 570 seconds\n",
      "JobStatus.QUEUED\n",
      "1\n",
      "Status @ 580 seconds\n",
      "JobStatus.QUEUED\n",
      "1\n",
      "Status @ 590 seconds\n",
      "JobStatus.RUNNING\n",
      "0\n",
      "Status @ 600 seconds\n",
      "JobStatus.DONE\n",
      "0\n",
      "JobStatus.DONE\n"
     ]
    },
    {
     "data": {
      "image/png": "[encoded data removed]",
      "text/plain": [
       "<matplotlib.figure.Figure at 0x1120a0908>"
      ]
     },
     "execution_count": 54,
     "metadata": {},
     "output_type": "execute_result"
    }
   ],
   "source": [
    "# let's choose a device and \n",
    "device = least_busy(IBMQ.backends(simulator=False))\n",
    "print('running it on ', device)\n",
    "qc = grover+meas_zz\n",
    "job = execute(qc, device)\n",
    "\n",
    "lapse = 0\n",
    "interval = 10\n",
    "while job.status().name != 'DONE':\n",
    "    print('Status @ {} seconds'.format(interval * lapse))\n",
    "    print(job.status())\n",
    "    print(job.queue_position())\n",
    "    time.sleep(interval)\n",
    "    lapse += 1\n",
    "print(job.status())\n",
    "    \n",
    "device_result = job.result()\n",
    "device_counts = device_result.get_counts()\n",
    "plot_histogram(device_counts)"
   ]
  },
  {
   "cell_type": "code",
   "execution_count": 55,
   "metadata": {
    "slideshow": {
     "slide_type": "slide"
    }
   },
   "outputs": [
    {
     "data": {
      "text/html": [
       "<img src=\"images/entenglemant.gif\" align=\"center\">"
      ],
      "text/plain": [
       "<IPython.core.display.HTML object>"
      ]
     },
     "execution_count": 55,
     "metadata": {},
     "output_type": "execute_result"
    }
   ],
   "source": [
    "slides.entangled()"
   ]
  },
  {
   "cell_type": "code",
   "execution_count": 56,
   "metadata": {
    "slideshow": {
     "slide_type": "slide"
    }
   },
   "outputs": [
    {
     "data": {
      "text/html": [
       "<img src=\"images/entanglement.jpg\" width=\"1000 px\" align=\"center\">"
      ],
      "text/plain": [
       "<IPython.core.display.HTML object>"
      ]
     },
     "execution_count": 56,
     "metadata": {},
     "output_type": "execute_result"
    }
   ],
   "source": [
    "slides.entanglement()"
   ]
  },
  {
   "cell_type": "code",
   "execution_count": 57,
   "metadata": {},
   "outputs": [
    {
     "data": {
      "text/html": [
       "<img src=\"images/aqua.jpg\" width=\"1000 px\" align=\"center\">"
      ],
      "text/plain": [
       "<IPython.core.display.HTML object>"
      ]
     },
     "execution_count": 57,
     "metadata": {},
     "output_type": "execute_result"
    }
   ],
   "source": [
    "slides.aqua()"
   ]
  },
  {
   "cell_type": "code",
   "execution_count": 58,
   "metadata": {
    "slideshow": {
     "slide_type": "slide"
    }
   },
   "outputs": [
    {
     "data": {
      "text/html": [
       "\n",
       "    <img src=\"images/executions-QX-complete.gif\" width=\"1000 px\" align=\"center\">\n",
       "    "
      ],
      "text/plain": [
       "<IPython.core.display.HTML object>"
      ]
     },
     "execution_count": 58,
     "metadata": {},
     "output_type": "execute_result"
    }
   ],
   "source": [
    "slides.execution()"
   ]
  },
  {
   "cell_type": "code",
   "execution_count": 59,
   "metadata": {
    "slideshow": {
     "slide_type": "slide"
    }
   },
   "outputs": [
    {
     "data": {
      "text/html": [
       "<img src=\"images/papers.jpg\" width=\"1000 px\" align=\"center\">"
      ],
      "text/plain": [
       "<IPython.core.display.HTML object>"
      ]
     },
     "execution_count": 59,
     "metadata": {},
     "output_type": "execute_result"
    }
   ],
   "source": [
    "slides.papers()"
   ]
  },
  {
   "cell_type": "code",
   "execution_count": 60,
   "metadata": {
    "slideshow": {
     "slide_type": "slide"
    }
   },
   "outputs": [
    {
     "data": {
      "text/html": [
       "<img src=\"images/community.jpg\" width=\"1000 px\" align=\"center\">"
      ],
      "text/plain": [
       "<IPython.core.display.HTML object>"
      ]
     },
     "execution_count": 60,
     "metadata": {},
     "output_type": "execute_result"
    }
   ],
   "source": [
    "slides.community()"
   ]
  },
  {
   "cell_type": "code",
   "execution_count": 61,
   "metadata": {},
   "outputs": [
    {
     "data": {
      "text/html": [
       "<img src=\"images/thanks.gif\" width=\"1000 px\" align=\"center\">"
      ],
      "text/plain": [
       "<IPython.core.display.HTML object>"
      ]
     },
     "execution_count": 61,
     "metadata": {},
     "output_type": "execute_result"
    }
   ],
   "source": [
    "slides.thanks()"
   ]
  },
  {
   "cell_type": "code",
   "execution_count": null,
   "metadata": {
    "collapsed": true
   },
   "outputs": [],
   "source": []
  }
 ],
 "metadata": {
  "kernelspec": {
   "display_name": "QISKitenv",
   "language": "python",
   "name": "qiskitenv"
  },
  "language_info": {
   "codemirror_mode": {
    "name": "ipython",
    "version": 3
   },
   "file_extension": ".py",
   "mimetype": "text/x-python",
   "name": "python",
   "nbconvert_exporter": "python",
   "pygments_lexer": "ipython3",
   "version": "3.6.2"
  }
 },
 "nbformat": 4,
 "nbformat_minor": 2
}

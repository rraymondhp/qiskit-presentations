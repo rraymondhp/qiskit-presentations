{
 "cells": [
  {
   "cell_type": "markdown",
   "metadata": {},
   "source": [
    "# Programming IBM Superconducting Qubits with Qiskit  (Part 1/2)\n",
    "\n",
    "## Rudy Raymond H.P. (Doctor of Informatics, Kyoto University)\n",
    "\n",
    "## IBM Research "
   ]
  },
  {
   "cell_type": "markdown",
   "metadata": {},
   "source": [
    "Please visit www.qiskit.org for more details on an open source quantum computing framework for writing quantum experiments, programs, and applications."
   ]
  },
  {
   "cell_type": "code",
   "execution_count": 1,
   "metadata": {
    "slideshow": {
     "slide_type": "subslide"
    }
   },
   "outputs": [
    {
     "name": "stdout",
     "output_type": "stream",
     "text": [
      "Hello Taiwan, Hello NTU, Hello IBM QuaNTUm ... \n"
     ]
    }
   ],
   "source": [
    "import slides"
   ]
  },
  {
   "cell_type": "code",
   "execution_count": 2,
   "metadata": {},
   "outputs": [
    {
     "data": {
      "text/html": [
       "<img src=\"images/ntu_qiskit.jpg\" width=\"1000 px\" align=\"center\">"
      ],
      "text/plain": [
       "<IPython.core.display.HTML object>"
      ]
     },
     "execution_count": 2,
     "metadata": {},
     "output_type": "execute_result"
    }
   ],
   "source": [
    "slides.ntu()"
   ]
  },
  {
   "cell_type": "code",
   "execution_count": 3,
   "metadata": {
    "slideshow": {
     "slide_type": "slide"
    }
   },
   "outputs": [
    {
     "data": {
      "text/html": [
       "<img src=\"images/lab.jpg\" width=\"1000 px\">"
      ],
      "text/plain": [
       "<IPython.core.display.HTML object>"
      ]
     },
     "execution_count": 3,
     "metadata": {},
     "output_type": "execute_result"
    }
   ],
   "source": [
    "slides.lab()"
   ]
  },
  {
   "cell_type": "code",
   "execution_count": 4,
   "metadata": {},
   "outputs": [
    {
     "data": {
      "text/html": [
       "<img src=\"images/system.jpg\" width=\"1000 px\" align=\"center\">"
      ],
      "text/plain": [
       "<IPython.core.display.HTML object>"
      ]
     },
     "execution_count": 4,
     "metadata": {},
     "output_type": "execute_result"
    }
   ],
   "source": [
    "slides.system()"
   ]
  },
  {
   "cell_type": "code",
   "execution_count": 5,
   "metadata": {},
   "outputs": [
    {
     "data": {
      "text/html": [
       "<img src=\"images/transmon.jpg\" width=\"1000 px\" align=\"center\">"
      ],
      "text/plain": [
       "<IPython.core.display.HTML object>"
      ]
     },
     "execution_count": 5,
     "metadata": {},
     "output_type": "execute_result"
    }
   ],
   "source": [
    "slides.transmon()"
   ]
  },
  {
   "cell_type": "code",
   "execution_count": 2,
   "metadata": {},
   "outputs": [
    {
     "data": {
      "text/html": [
       "<img src=\"images/superposition.gif\" align=\"center\">"
      ],
      "text/plain": [
       "<IPython.core.display.HTML object>"
      ]
     },
     "execution_count": 2,
     "metadata": {},
     "output_type": "execute_result"
    }
   ],
   "source": [
    "slides.superposition()\n"
   ]
  },
  {
   "cell_type": "code",
   "execution_count": 6,
   "metadata": {},
   "outputs": [
    {
     "data": {
      "text/html": [
       "<img src=\"images/interference.gif\" align=\"center\">"
      ],
      "text/plain": [
       "<IPython.core.display.HTML object>"
      ]
     },
     "execution_count": 6,
     "metadata": {},
     "output_type": "execute_result"
    }
   ],
   "source": [
    "slides.interference()"
   ]
  },
  {
   "cell_type": "code",
   "execution_count": 7,
   "metadata": {},
   "outputs": [
    {
     "data": {
      "text/html": [
       "<img src=\"images/entenglemant.gif\" align=\"center\">"
      ],
      "text/plain": [
       "<IPython.core.display.HTML object>"
      ]
     },
     "execution_count": 7,
     "metadata": {},
     "output_type": "execute_result"
    }
   ],
   "source": [
    "slides.entangled()"
   ]
  },
  {
   "cell_type": "code",
   "execution_count": 8,
   "metadata": {},
   "outputs": [
    {
     "data": {
      "text/html": [
       "<img src=\"images/algorithm.jpg\" align=\"center\">"
      ],
      "text/plain": [
       "<IPython.core.display.HTML object>"
      ]
     },
     "execution_count": 8,
     "metadata": {},
     "output_type": "execute_result"
    }
   ],
   "source": [
    "slides.algorithm()"
   ]
  },
  {
   "cell_type": "code",
   "execution_count": 9,
   "metadata": {
    "slideshow": {
     "slide_type": "slide"
    }
   },
   "outputs": [
    {
     "data": {
      "text/plain": [
       "True"
      ]
     },
     "execution_count": 9,
     "metadata": {},
     "output_type": "execute_result"
    }
   ],
   "source": [
    "slides.ibmqx()"
   ]
  },
  {
   "cell_type": "code",
   "execution_count": 10,
   "metadata": {},
   "outputs": [
    {
     "data": {
      "text/plain": [
       "True"
      ]
     },
     "execution_count": 10,
     "metadata": {},
     "output_type": "execute_result"
    }
   ],
   "source": [
    "slides.qiskit()"
   ]
  },
  {
   "cell_type": "code",
   "execution_count": 11,
   "metadata": {},
   "outputs": [
    {
     "data": {
      "text/html": [
       "<img src=\"images/elements.jpg\" width=\"1000 px\">"
      ],
      "text/plain": [
       "<IPython.core.display.HTML object>"
      ]
     },
     "execution_count": 11,
     "metadata": {},
     "output_type": "execute_result"
    }
   ],
   "source": [
    "slides.elements()"
   ]
  },
  {
   "cell_type": "code",
   "execution_count": 12,
   "metadata": {},
   "outputs": [
    {
     "data": {
      "text/plain": [
       "True"
      ]
     },
     "execution_count": 12,
     "metadata": {},
     "output_type": "execute_result"
    }
   ],
   "source": [
    "slides.git()"
   ]
  },
  {
   "cell_type": "code",
   "execution_count": 13,
   "metadata": {
    "collapsed": true
   },
   "outputs": [],
   "source": [
    "from qiskit import IBMQ\n",
    "\n",
    "import mytoken\n",
    "\n",
    "IBMQ.delete_accounts()\n",
    "\n",
    "#public account\n",
    "IBMQ.save_account(mytoken.PubAPItoken, overwrite=True)\n",
    "\n",
    "#hub account\n",
    "config = {\n",
    "      'url2': 'https://q-console-api.mybluemix.net/api/Hubs/ibm-q-internal/Groups/support/Projects/default'\n",
    "      }\n",
    "IBMQ.save_account(mytoken.HubAPItoken, config['url2'], overwrite=True)"
   ]
  },
  {
   "cell_type": "code",
   "execution_count": 14,
   "metadata": {
    "collapsed": true
   },
   "outputs": [],
   "source": [
    "IBMQ.load_accounts()\n",
    "#if there's a trouble see: https://github.com/Qiskit/qiskit-tutorial/blob/master/INSTALL.md"
   ]
  },
  {
   "cell_type": "code",
   "execution_count": 15,
   "metadata": {},
   "outputs": [
    {
     "data": {
      "text/plain": [
       "[{'token': 'd05e9f4bd7c3c44abc479d5024349ae556b78df9dd26fc09bdae0ab12e432fd29da1ac218d0513408764fce1182d404de91e1fa4ca3f59c17da9ae5615e159e2',\n",
       "  'url': 'https://quantumexperience.ng.bluemix.net/api'},\n",
       " {'token': '30f9bee04302e1fa543880f72635b525f1e70ed212e43abd3a280f37ad3c2a44b8db13c57b8410da5bdabe26dc49296586745e41c46b1a215408ae31492c53fb',\n",
       "  'url': 'https://q-console-api.mybluemix.net/api/Hubs/ibm-q-internal/Groups/support/Projects/default'}]"
      ]
     },
     "execution_count": 15,
     "metadata": {},
     "output_type": "execute_result"
    }
   ],
   "source": [
    "IBMQ.stored_accounts()"
   ]
  },
  {
   "cell_type": "code",
   "execution_count": 16,
   "metadata": {},
   "outputs": [
    {
     "data": {
      "text/plain": [
       "[<IBMQBackend('ibmqx4') from IBMQ()>,\n",
       " <IBMQBackend('ibmq_16_melbourne') from IBMQ()>,\n",
       " <IBMQBackend('ibmq_qasm_simulator') from IBMQ()>,\n",
       " <IBMQBackend('ibmq_20_tokyo') from IBMQ(ibm-q-internal, support, default)>,\n",
       " <IBMQBackend('ibmq_poughkeepsie') from IBMQ(ibm-q-internal, support, default)>,\n",
       " <IBMQBackend('ibmq_qasm_simulator') from IBMQ(ibm-q-internal, support, default)>]"
      ]
     },
     "execution_count": 16,
     "metadata": {},
     "output_type": "execute_result"
    }
   ],
   "source": [
    "IBMQ.backends()"
   ]
  },
  {
   "cell_type": "code",
   "execution_count": 17,
   "metadata": {},
   "outputs": [
    {
     "data": {
      "text/plain": [
       "[<IBMQBackend('ibmq_20_tokyo') from IBMQ(ibm-q-internal, support, default)>,\n",
       " <IBMQBackend('ibmq_poughkeepsie') from IBMQ(ibm-q-internal, support, default)>]"
      ]
     },
     "execution_count": 17,
     "metadata": {},
     "output_type": "execute_result"
    }
   ],
   "source": [
    "IBMQ.backends(n_qubits=20)"
   ]
  },
  {
   "cell_type": "code",
   "execution_count": 6,
   "metadata": {},
   "outputs": [
    {
     "data": {
      "text/plain": [
       "<IBMQBackend('ibmq_20_tokyo') from IBMQ(ibm-q-internal, support, default)>"
      ]
     },
     "execution_count": 6,
     "metadata": {},
     "output_type": "execute_result"
    }
   ],
   "source": [
    "from qiskit.providers.ibmq import least_busy\n",
    "least_busy(IBMQ.backends(n_qubits=20))"
   ]
  },
  {
   "cell_type": "code",
   "execution_count": 32,
   "metadata": {},
   "outputs": [
    {
     "name": "stdout",
     "output_type": "stream",
     "text": [
      "BackendStatus(backend_name='ibmqx4', backend_version='1.0.0', operational=True, pending_jobs=28, status_msg='active')\n",
      "BackendStatus(backend_name='ibmq_16_melbourne', backend_version='1.0.0', operational=True, pending_jobs=68, status_msg='calibrating')\n",
      "BackendStatus(backend_name='ibmq_20_tokyo', backend_version='1.0.0', operational=True, pending_jobs=0, status_msg='active')\n",
      "BackendStatus(backend_name='ibmq_poughkeepsie', backend_version='1.0.0', operational=True, pending_jobs=0, status_msg='active')\n"
     ]
    }
   ],
   "source": [
    "for backend in IBMQ.backends(simulator=False):\n",
    "    print(backend.status())"
   ]
  },
  {
   "cell_type": "code",
   "execution_count": 19,
   "metadata": {
    "slideshow": {
     "slide_type": "slide"
    }
   },
   "outputs": [
    {
     "data": {
      "text/html": [
       "<img src=\"images/ibmq_qcc.jpg\" width=\"1000 px\">"
      ],
      "text/plain": [
       "<IPython.core.display.HTML object>"
      ]
     },
     "execution_count": 19,
     "metadata": {},
     "output_type": "execute_result"
    }
   ],
   "source": [
    "slides.ibmq_qcc()"
   ]
  },
  {
   "cell_type": "code",
   "execution_count": 20,
   "metadata": {
    "slideshow": {
     "slide_type": "slide"
    }
   },
   "outputs": [
    {
     "data": {
      "text/html": [
       "<img src=\"https://66.media.tumblr.com/763756ea907e30b639da239618bbe2d3/tumblr_mlotjw0e2C1r4xjo2o1_500.gif\" width=\"500 px\" align=\"center\">"
      ],
      "text/plain": [
       "<IPython.core.display.HTML object>"
      ]
     },
     "execution_count": 20,
     "metadata": {},
     "output_type": "execute_result"
    }
   ],
   "source": [
    "slides.quantum()"
   ]
  },
  {
   "cell_type": "markdown",
   "metadata": {},
   "source": [
    "thanks omgcatsinspace for the permission to use the quantum cat"
   ]
  },
  {
   "cell_type": "code",
   "execution_count": 21,
   "metadata": {
    "slideshow": {
     "slide_type": "slide"
    }
   },
   "outputs": [
    {
     "data": {
      "text/html": [
       "<img src=\"images/model.jpg\" width=\"1000 px\" align=\"center\">"
      ],
      "text/plain": [
       "<IPython.core.display.HTML object>"
      ]
     },
     "execution_count": 21,
     "metadata": {},
     "output_type": "execute_result"
    }
   ],
   "source": [
    "slides.model()"
   ]
  },
  {
   "cell_type": "code",
   "execution_count": 22,
   "metadata": {
    "collapsed": true,
    "slideshow": {
     "slide_type": "slide"
    }
   },
   "outputs": [],
   "source": [
    "from qiskit import QuantumCircuit, QuantumRegister, ClassicalRegister, execute\n",
    "from qiskit.tools.visualization import plot_histogram\n",
    "from qiskit import BasicAer as Aer"
   ]
  },
  {
   "cell_type": "code",
   "execution_count": 23,
   "metadata": {
    "slideshow": {
     "slide_type": "slide"
    }
   },
   "outputs": [
    {
     "data": {
      "image/png": "[encoded data removed]",
      "text/plain": [
       "<matplotlib.figure.Figure at 0x10ad9f438>"
      ]
     },
     "execution_count": 23,
     "metadata": {},
     "output_type": "execute_result"
    }
   ],
   "source": [
    "# Quantum and Classical Registers\n",
    "q = QuantumRegister(1)\n",
    "c = ClassicalRegister(1)\n",
    "\n",
    "# Build the circuit\n",
    "qc = QuantumCircuit(q, c)\n",
    "qc.h(q)\n",
    "\n",
    "#-----\n",
    "\n",
    "qc.measure(q, c)\n",
    "\n",
    "# Execute the circuit\n",
    "sim_backend = Aer.get_backend('qasm_simulator')\n",
    "result = execute(qc, sim_backend, shots=1000).result()\n",
    "\n",
    "# Display the result\n",
    "plot_histogram(result.get_counts(qc))"
   ]
  },
  {
   "cell_type": "code",
   "execution_count": 24,
   "metadata": {},
   "outputs": [
    {
     "data": {
      "image/png": "[encoded data removed]",
      "text/plain": [
       "<matplotlib.figure.Figure at 0x10ada5cf8>"
      ]
     },
     "execution_count": 24,
     "metadata": {},
     "output_type": "execute_result"
    }
   ],
   "source": [
    "qc.draw(output=\"mpl\")"
   ]
  },
  {
   "cell_type": "code",
   "execution_count": 27,
   "metadata": {
    "slideshow": {
     "slide_type": "slide"
    }
   },
   "outputs": [
    {
     "data": {
      "image/png": "[encoded data removed]",
      "text/plain": [
       "<matplotlib.figure.Figure at 0x10ecb8be0>"
      ]
     },
     "execution_count": 27,
     "metadata": {},
     "output_type": "execute_result"
    }
   ],
   "source": [
    "# Quantum Registers\n",
    "q = QuantumRegister(2)\n",
    "\n",
    "# Build the circuit\n",
    "bell = QuantumCircuit(q)\n",
    "bell.h(q[0])\n",
    "bell.cx(q[0], q[1])\n",
    "\n",
    "# Draw the circuit\n",
    "bell.draw(output=\"mpl\")"
   ]
  },
  {
   "cell_type": "code",
   "execution_count": 28,
   "metadata": {},
   "outputs": [
    {
     "data": {
      "text/plain": [
       "<qiskit.circuit.instructionset.InstructionSet at 0x10edc59b0>"
      ]
     },
     "execution_count": 28,
     "metadata": {},
     "output_type": "execute_result"
    }
   ],
   "source": [
    "c2 = ClassicalRegister(2)\n",
    "\n",
    "# Measurement in standard basis\n",
    "meas_zi = QuantumCircuit(q, c) \n",
    "meas_zi.measure(q[0], c[0])\n",
    "\n",
    "# Measurement in superposition basis\n",
    "meas_xi = QuantumCircuit(q, c)\n",
    "meas_xi.h(q[0])\n",
    "meas_xi.measure(q[0], c[0])\n",
    "\n",
    "# Joint measurement in standard basis\n",
    "meas_zz = QuantumCircuit(q, c2) \n",
    "meas_zz.measure(q, c2)\n",
    "\n",
    "# Join measuremen xz \n",
    "meas_xz = QuantumCircuit(q,c2)\n",
    "meas_xz.h(q[0])\n",
    "meas_xz.iden(q[1])\n",
    "meas_xz.measure(q,c2)\n",
    "\n",
    "# Joint measurement in superposition basis\n",
    "meas_xx = QuantumCircuit(q, c2) \n",
    "meas_xx.h(q)\n",
    "meas_xx.measure(q, c2)"
   ]
  },
  {
   "cell_type": "code",
   "execution_count": 34,
   "metadata": {},
   "outputs": [
    {
     "data": {
      "image/png": "[encoded data removed]",
      "text/plain": [
       "<matplotlib.figure.Figure at 0x10efcb8d0>"
      ]
     },
     "execution_count": 34,
     "metadata": {},
     "output_type": "execute_result"
    }
   ],
   "source": [
    "# Execute the circuit\n",
    "qc = bell + meas_xx\n",
    "result = execute(qc, sim_backend, shots=10000).result()\n",
    "\n",
    "# Display the result\n",
    "plot_histogram(result.get_counts(qc))"
   ]
  },
  {
   "cell_type": "code",
   "execution_count": 31,
   "metadata": {},
   "outputs": [
    {
     "data": {
      "image/png": "[encoded data removed]",
      "text/plain": [
       "<matplotlib.figure.Figure at 0x10ed917f0>"
      ]
     },
     "execution_count": 31,
     "metadata": {},
     "output_type": "execute_result"
    }
   ],
   "source": [
    "qc.draw(output=\"mpl\")"
   ]
  },
  {
   "cell_type": "code",
   "execution_count": 33,
   "metadata": {
    "scrolled": false,
    "slideshow": {
     "slide_type": "slide"
    }
   },
   "outputs": [
    {
     "name": "stdout",
     "output_type": "stream",
     "text": [
      "running it on  ibmq_poughkeepsie\n"
     ]
    },
    {
     "data": {
      "application/vnd.jupyter.widget-view+json": {
       "model_id": "0a703fa342614cba8b489ea86c388da5",
       "version_major": 2,
       "version_minor": 0
      },
      "text/plain": [
       "HTML(value=\"<p style='font-size:16px;'>Job Status: job is being initialized </p>\")"
      ]
     },
     "metadata": {},
     "output_type": "display_data"
    },
    {
     "data": {
      "image/png": "[encoded data removed]",
      "text/plain": [
       "<matplotlib.figure.Figure at 0x10edbaac8>"
      ]
     },
     "execution_count": 33,
     "metadata": {},
     "output_type": "execute_result"
    }
   ],
   "source": [
    "## let's choose a device and \n",
    "#device = least_busy(IBMQ.backends(simulator=False, n_qubits=20))\n",
    "device = IBMQ.get_backend('ibmq_poughkeepsie')\n",
    "#device = IBMQ.get_backend(\"ibmqx4\")\n",
    "print('running it on ', device)\n",
    "qc = bell+meas_xx\n",
    "\n",
    "from qiskit import execute\n",
    "\n",
    "job = execute(qc, backend=device, shots=1024)\n",
    "\n",
    "from qiskit.tools.monitor import job_monitor\n",
    "job_monitor(job, interval=5)\n",
    "result = job.result()\n",
    "\n",
    "    \n",
    "device_counts = result.get_counts()\n",
    "plot_histogram(device_counts)"
   ]
  },
  {
   "cell_type": "code",
   "execution_count": 35,
   "metadata": {
    "collapsed": true
   },
   "outputs": [],
   "source": [
    "# Build the circuit\n",
    "superpositon = QuantumCircuit(q) \n",
    "oracle = QuantumCircuit(q) \n",
    "amplitude_amp = QuantumCircuit(q) \n",
    "\n",
    "\n",
    "#Make superposition off all\n",
    "superpositon.h(q)\n",
    "\n",
    "#encode the oracle \n",
    "test = '01'\n",
    "if test == '00':\n",
    "    oracle.z(q)\n",
    "    oracle.cz(q[0], q[1])   \n",
    "if test == '10':\n",
    "    oracle.z(q[1])\n",
    "    oracle.cz(q[0], q[1])  \n",
    "if test == '01':\n",
    "    oracle.z(q[0])\n",
    "    oracle.cz(q[0], q[1])    \n",
    "if test == '11':\n",
    "    oracle.cz(q[0], q[1])\n",
    "\n",
    "\n",
    "#amplitude amplification\n",
    "amplitude_amp.h(q)\n",
    "amplitude_amp.z(q)\n",
    "amplitude_amp.cz(q[0], q[1])\n",
    "amplitude_amp.h(q)\n",
    "\n",
    "\n",
    "grover = superpositon+oracle+amplitude_amp\n",
    "\n",
    "qc = grover+meas_zz"
   ]
  },
  {
   "cell_type": "code",
   "execution_count": 36,
   "metadata": {},
   "outputs": [
    {
     "data": {
      "image/png": "[encoded data removed]",
      "text/plain": [
       "<matplotlib.figure.Figure at 0x10f144908>"
      ]
     },
     "execution_count": 36,
     "metadata": {},
     "output_type": "execute_result"
    }
   ],
   "source": [
    "qc.draw(output=\"mpl\")"
   ]
  },
  {
   "cell_type": "code",
   "execution_count": 37,
   "metadata": {},
   "outputs": [
    {
     "name": "stdout",
     "output_type": "stream",
     "text": [
      "{'01': 1000}\n"
     ]
    },
    {
     "data": {
      "image/png": "[encoded data removed]",
      "text/plain": [
       "<matplotlib.figure.Figure at 0x10edba208>"
      ]
     },
     "execution_count": 37,
     "metadata": {},
     "output_type": "execute_result"
    }
   ],
   "source": [
    "# Execute the circuit\n",
    "result = execute(qc, backend=sim_backend, shots=1000).result()\n",
    "\n",
    "print(result.get_counts())\n",
    "plot_histogram(result.get_counts())"
   ]
  },
  {
   "cell_type": "code",
   "execution_count": 29,
   "metadata": {
    "scrolled": false
   },
   "outputs": [
    {
     "name": "stdout",
     "output_type": "stream",
     "text": [
      "running it on  ibmq_poughkeepsie\n"
     ]
    },
    {
     "data": {
      "application/vnd.jupyter.widget-view+json": {
       "model_id": "bec1e920c46541929e90349e49395125",
       "version_major": 2,
       "version_minor": 0
      },
      "text/plain": [
       "HTML(value=\"<p style='font-size:16px;'>Job Status: job is being initialized </p>\")"
      ]
     },
     "metadata": {},
     "output_type": "display_data"
    },
    {
     "data": {
      "image/png": "[encoded data removed]",
      "text/plain": [
       "<matplotlib.figure.Figure at 0x110191b00>"
      ]
     },
     "execution_count": 29,
     "metadata": {},
     "output_type": "execute_result"
    }
   ],
   "source": [
    "# let's choose a device and \n",
    "device = IBMQ.get_backend('ibmq_poughkeepsie')\n",
    "print('running it on ', device)\n",
    "qc = grover+meas_zz\n",
    "job = execute(qc, device)\n",
    "\n",
    "from qiskit import execute\n",
    "\n",
    "job = execute(qc, backend=device, shots=1024)\n",
    "\n",
    "from qiskit.tools.monitor import job_monitor\n",
    "job_monitor(job)\n",
    "result = job.result()\n",
    "\n",
    "counts = result.get_counts()\n",
    "plot_histogram(counts)"
   ]
  },
  {
   "cell_type": "code",
   "execution_count": 25,
   "metadata": {
    "scrolled": false
   },
   "outputs": [
    {
     "name": "stdout",
     "output_type": "stream",
     "text": [
      "ibmq_poughkeepsie\n",
      "=================\n",
      "Configuration\n",
      "-------------\n",
      "    n_qubits: 20\n",
      "    operational: True\n",
      "    status_msg: active\n",
      "    pending_jobs: 0\n",
      "    basis_gates: ['u1', 'u2', 'u3', 'cx', 'id']\n",
      "    local: False\n",
      "    simulator: False\n",
      "    dtm: 3.5555555555555554e-09\n",
      "    rep_times: [50, 500, 1000]\n",
      "    backend_version: 1.0.0\n",
      "    allow_q_object: True\n",
      "    meas_levels: [1, 2]\n",
      "    n_registers: 1\n",
      "    dt: 3.5555555555555554e-09\n",
      "    online_date: 2018-08-29T04:00:00+00:00\n",
      "    defaults: {'buffer': 1, 'meas_kernel': {'params': {}, 'name': 'boxcar'}, 'discriminator': {'params': {'cal': 'coloring', 'neighborhoods': [{'qubits': 1, 'channels': 1}, {'qubits': 2, 'channels': 2}, {'qubits': 4, 'channels': 4}, {'qubits': 8, 'channels': 8}, {'qubits': 16, 'channels': 16}, {'qubits': 32, 'channels': 32}, {'qubits': 64, 'channels': 64}, {'qubits': 128, 'channels': 128}, {'qubits': 256, 'channels': 256}, {'qubits': 512, 'channels': 512}, {'qubits': 1024, 'channels': 1024}, {'qubits': 2048, 'channels': 2048}, {'qubits': 4096, 'channels': 4096}, {'qubits': 8192, 'channels': 8192}, {'qubits': 16384, 'channels': 16384}, {'qubits': 32768, 'channels': 32768}, {'qubits': 65536, 'channels': 65536}, {'qubits': 131072, 'channels': 131072}, {'qubits': 262144, 'channels': 262144}, {'qubits': 524288, 'channels': 524288}], 'resample': False}, 'name': 'linear_discriminator'}, 'qubit_freq_est': [4.920226450311955, 4.8320436888096205, 4.9403930771816595, 4.5144173771866845, 4.662972266121629, 4.9572143635797286, 4.995710857321589, 4.81122124262248, 5.012383668004316, 5.05650715744621, 4.720335008164596, 4.899357870631928, 4.772112631538211, 5.109978256950319, 4.990899966345493, 4.806553038487347, 4.956335114875216, 4.599370210449827, 4.8278740994245455, 4.938182467062051], 'meas_freq_est': [7.02304866, 6.988508651, 7.021087557, 6.914462388, 7.085532103, 6.949279909, 7.108946695, 6.909172065, 6.994924756, 6.901232112, 7.046906055, 7.002697717, 7.056662542, 6.944036858, 7.102260098, 6.942593417, 7.087802113, 6.89580952, 7.003100376, 6.89580523]}\n",
      "    acquisition_latency : []\n",
      "    memory: True\n",
      "    max_shots: 8192\n",
      "    coupling_map: [[0, 1], [0, 5], [1, 0], [1, 2], [2, 1], [2, 3], [3, 2], [3, 4], [4, 3], [4, 9], [5, 0], [5, 6], [5, 10], [6, 5], [6, 7], [7, 6], [7, 8], [7, 12], [8, 7], [8, 9], [9, 4], [9, 8], [9, 14], [10, 5], [10, 11], [10, 15], [11, 10], [11, 12], [12, 7], [12, 11], [12, 13], [13, 12], [13, 14], [14, 9], [14, 13], [14, 19], [15, 10], [15, 16], [16, 15], [16, 17], [17, 16], [17, 18], [18, 17], [18, 19], [19, 14], [19, 18]]\n",
      "    open_pulse: False\n",
      "    max_experiments: 900\n",
      "    credits_required: True\n",
      "    u_channel_lo: []\n",
      "    url: None\n",
      "    conditional: False\n",
      "    backend_name: ibmq_poughkeepsie\n",
      "    conditional_latency : []\n",
      "    meas_kernels: ['boxcar']\n",
      "    meas_map: [[0, 1, 2, 3, 4, 5, 6, 7, 8, 9, 10, 11, 12, 13, 14, 15, 16, 17, 18, 19]]\n",
      "    meas_lo_range: [[6.02304866, 8.02304866], [5.988508651, 7.988508651], [6.021087557, 8.021087557000001], [5.914462388, 7.914462388], [6.085532103, 8.085532103], [5.949279909, 7.949279909], [6.108946695, 8.108946695], [5.909172065, 7.909172065], [5.994924756, 7.994924756], [5.901232112, 7.901232112], [6.046906055, 8.046906055000001], [6.002697717, 8.002697717], [6.056662542, 8.056662542], [5.944036858, 7.944036858], [6.102260098, 8.102260098], [5.942593417, 7.942593417], [6.087802113, 8.087802113], [5.89580952, 7.89580952], [6.003100376, 8.003100375999999], [5.89580523, 7.89580523]]\n",
      "    description: 20 qubit device Poughkeepsie\n",
      "    hamiltonian: {'h_latex': '', 'vars': {}, 'h_str': [''], 'osc': {}}\n",
      "    qubit_lo_range: [[3.9202264503119553, 5.920226450311955], [3.8320436888096205, 5.8320436888096205], [3.9403930771816595, 5.9403930771816595], [3.5144173771866845, 5.5144173771866845], [3.6629722661216286, 5.662972266121629], [3.9572143635797286, 5.9572143635797286], [3.9957108573215887, 5.995710857321589], [3.81122124262248, 5.81122124262248], [4.012383668004316, 6.012383668004316], [4.05650715744621, 6.05650715744621], [3.7203350081645956, 5.720335008164596], [3.8993578706319276, 5.899357870631928], [3.772112631538211, 5.772112631538211], [4.109978256950319, 6.109978256950319], [3.990899966345493, 5.990899966345493], [3.8065530384873467, 5.806553038487347], [3.956335114875216, 5.956335114875216], [3.599370210449827, 5.599370210449827], [3.8278740994245455, 5.8278740994245455], [3.9381824670620507, 5.938182467062051]]\n",
      "    n_uchannels: 0\n",
      "    sample_name: Hexbert\n",
      "    discriminators: ['linear_discriminator', 'quadratic_discriminator']\n",
      "\n",
      "Qubits [Name / Freq / T1 / T2 / U1 err / U2 err / U3 err / Readout err]\n",
      "-----------------------------------------------------------------------\n",
      "    Q0 / 4.92023 GHz / 46.7703 µs / 44.91432 µs / 0.0 / 0.00123 / 0.00247 / 0.196\n",
      "    Q1 / 4.83204 GHz / 96.30488 µs / 108.87847 µs / 0.0 / 0.0006 / 0.0012 / 0.048\n",
      "    Q2 / 4.94039 GHz / 52.82666 µs / 60.68589 µs / 0.0 / 0.0009 / 0.00181 / 0.087\n",
      "    Q3 / 4.51442 GHz / 111.28219 µs / 122.88967 µs / 0.0 / 0.00057 / 0.00113 / 0.044\n",
      "    Q4 / 4.66297 GHz / 75.62601 µs / 61.3849 µs / 0.0 / 0.00088 / 0.00177 / 0.04\n",
      "    Q5 / 4.95721 GHz / 72.84118 µs / 82.00098 µs / 0.0 / 0.00086 / 0.00172 / 0.034\n",
      "    Q6 / 4.99571 GHz / 65.84092 µs / 79.48522 µs / 0.0 / 0.00089 / 0.00178 / 0.043\n",
      "    Q7 / 4.81122 GHz / 94.848 µs / 30.99681 µs / 0.0 / 0.00205 / 0.00411 / 0.062\n",
      "    Q8 / 5.01238 GHz / 45.95812 µs / 91.57531 µs / 0.0 / 0.00102 / 0.00205 / 0.029\n",
      "    Q9 / 5.05651 GHz / 71.61667 µs / 72.3188 µs / 0.0 / 0.00105 / 0.0021 / 0.025\n",
      "    Q10 / 4.72034 GHz / 73.35968 µs / 19.92146 µs / 0.0 / 0.00133 / 0.00266 / 0.056\n",
      "    Q11 / 4.89936 GHz / 50.53564 µs / 56.87503 µs / 0.0 / 0.00057 / 0.00114 / 0.033\n",
      "    Q12 / 4.77211 GHz / 68.95979 µs / 16.79999 µs / 0.0 / 0.0012 / 0.0024 / 0.029\n",
      "    Q13 / 5.10998 GHz / 41.5633 µs / 32.60672 µs / 0.0 / 0.00272 / 0.00545 / 0.031\n",
      "    Q14 / 4.9909 GHz / 75.48987 µs / 77.90969 µs / 0.0 / 0.001 / 0.002 / 0.026\n",
      "    Q15 / 4.80655 GHz / 76.64696 µs / 55.13908 µs / 0.0 / 0.00062 / 0.00124 / 0.026\n",
      "    Q16 / 4.95634 GHz / 67.58162 µs / 72.69135 µs / 0.0 / 0.0009 / 0.0018 / 0.024\n",
      "    Q17 / 4.59937 GHz / 98.31045 µs / 13.79045 µs / 0.0 / 0.00067 / 0.00134 / 0.052\n",
      "    Q18 / 4.82787 GHz / 21.34075 µs / 31.93335 µs / 0.0 / 0.001 / 0.002 / 0.04\n",
      "    Q19 / 4.93818 GHz / 77.31808 µs / 52.06606 µs / 0.0 / 0.00144 / 0.00287 / 0.053\n",
      "\n",
      "Multi-Qubit Gates [Name / Type / Gate Error]\n",
      "--------------------------------------------\n",
      "    CX0_1 / cx / 0.01917\n",
      "    CX0_5 / cx / 0.02469\n",
      "    CX1_0 / cx / 0.01917\n",
      "    CX1_2 / cx / 0.01566\n",
      "    CX2_1 / cx / 0.01566\n",
      "    CX2_3 / cx / 0.03582\n",
      "    CX3_2 / cx / 0.03582\n",
      "    CX3_4 / cx / 0.02431\n",
      "    CX4_3 / cx / 0.02431\n",
      "    CX4_9 / cx / 0.02162\n",
      "    CX5_0 / cx / 0.02469\n",
      "    CX5_6 / cx / 0.01752\n",
      "    CX5_10 / cx / 0.03022\n",
      "    CX6_5 / cx / 0.01752\n",
      "    CX6_7 / cx / 0.03443\n",
      "    CX7_6 / cx / 0.03443\n",
      "    CX7_8 / cx / 0.02179\n",
      "    CX7_12 / cx / 0.02152\n",
      "    CX8_7 / cx / 0.02071\n",
      "    CX8_9 / cx / 0.01842\n",
      "    CX9_4 / cx / 0.02162\n",
      "    CX9_8 / cx / 0.01842\n",
      "    CX9_14 / cx / 0.06008\n",
      "    CX10_5 / cx / 0.03022\n",
      "    CX10_11 / cx / 0.02343\n",
      "    CX10_15 / cx / 0.01476\n",
      "    CX11_10 / cx / 0.02343\n",
      "    CX11_12 / cx / 0.01515\n",
      "    CX12_7 / cx / 0.02152\n",
      "    CX12_11 / cx / 0.01515\n",
      "    CX12_13 / cx / 0.03513\n",
      "    CX13_12 / cx / 0.03513\n",
      "    CX13_14 / cx / 0.02644\n",
      "    CX14_9 / cx / 0.06008\n",
      "    CX14_13 / cx / 0.02644\n",
      "    CX14_19 / cx / 0.02723\n",
      "    CX15_10 / cx / 0.01476\n",
      "    CX15_16 / cx / 0.01739\n",
      "    CX16_15 / cx / 0.01739\n",
      "    CX16_17 / cx / 0.04707\n",
      "    CX17_16 / cx / 0.04707\n",
      "    CX17_18 / cx / 0.01969\n",
      "    CX18_17 / cx / 0.01969\n",
      "    CX18_19 / cx / 0.01834\n",
      "    CX19_14 / cx / 0.02723\n",
      "    CX19_18 / cx / 0.01834\n"
     ]
    }
   ],
   "source": [
    "from qiskit.tools.monitor import backend_monitor\n",
    "\n",
    "backend_monitor(device)"
   ]
  },
  {
   "cell_type": "code",
   "execution_count": 26,
   "metadata": {},
   "outputs": [
    {
     "name": "stdout",
     "output_type": "stream",
     "text": [
      "ibmq_poughkeepsie           ibmq_20_tokyo                ibmq_16_melbourne\n",
      "-----------------           -------------                -----------------\n",
      "Num. Qubits:  20            Num. Qubits:  20             Num. Qubits:  14\n",
      "Pending Jobs: 0             Pending Jobs: 0              Pending Jobs: 6\n",
      "Least busy:   True          Least busy:   False          Least busy:   False\n",
      "Operational:  True          Operational:  True           Operational:  True\n",
      "Avg. T1:      69.3          Avg. T1:      92.9           Avg. T1:      54.8\n",
      "Avg. T2:      59.2          Avg. T2:      57.4           Avg. T2:      75.1\n",
      "\n",
      "\n",
      "\n",
      "ibmqx4\n",
      "------\n",
      "Num. Qubits:  5\n",
      "Pending Jobs: 13\n",
      "Least busy:   False\n",
      "Operational:  True\n",
      "Avg. T1:      45.9\n",
      "Avg. T2:      27.4\n",
      "\n",
      "\n",
      "\n"
     ]
    }
   ],
   "source": [
    "from qiskit.tools.monitor import backend_overview\n",
    "\n",
    "backend_overview()"
   ]
  },
  {
   "cell_type": "code",
   "execution_count": 38,
   "metadata": {
    "slideshow": {
     "slide_type": "slide"
    }
   },
   "outputs": [
    {
     "data": {
      "text/html": [
       "<img src=\"images/entenglemant.gif\" align=\"center\">"
      ],
      "text/plain": [
       "<IPython.core.display.HTML object>"
      ]
     },
     "execution_count": 38,
     "metadata": {},
     "output_type": "execute_result"
    }
   ],
   "source": [
    "slides.entangled()"
   ]
  },
  {
   "cell_type": "code",
   "execution_count": 39,
   "metadata": {
    "slideshow": {
     "slide_type": "slide"
    }
   },
   "outputs": [
    {
     "data": {
      "text/html": [
       "<img src=\"images/entanglement.jpg\" width=\"1000 px\" align=\"center\">"
      ],
      "text/plain": [
       "<IPython.core.display.HTML object>"
      ]
     },
     "execution_count": 39,
     "metadata": {},
     "output_type": "execute_result"
    }
   ],
   "source": [
    "slides.entanglement()"
   ]
  },
  {
   "cell_type": "code",
   "execution_count": 40,
   "metadata": {},
   "outputs": [
    {
     "data": {
      "text/html": [
       "<img src=\"images/aqua.jpg\" width=\"1000 px\" align=\"center\">"
      ],
      "text/plain": [
       "<IPython.core.display.HTML object>"
      ]
     },
     "execution_count": 40,
     "metadata": {},
     "output_type": "execute_result"
    }
   ],
   "source": [
    "slides.aqua()"
   ]
  },
  {
   "cell_type": "code",
   "execution_count": 41,
   "metadata": {
    "slideshow": {
     "slide_type": "slide"
    }
   },
   "outputs": [
    {
     "data": {
      "text/html": [
       "\n",
       "    <img src=\"images/executions-QX-complete.gif\" width=\"1000 px\" align=\"center\">\n",
       "    "
      ],
      "text/plain": [
       "<IPython.core.display.HTML object>"
      ]
     },
     "execution_count": 41,
     "metadata": {},
     "output_type": "execute_result"
    }
   ],
   "source": [
    "slides.execution()"
   ]
  },
  {
   "cell_type": "code",
   "execution_count": 42,
   "metadata": {
    "slideshow": {
     "slide_type": "slide"
    }
   },
   "outputs": [
    {
     "data": {
      "text/html": [
       "<img src=\"images/papers.jpg\" width=\"1000 px\" align=\"center\">"
      ],
      "text/plain": [
       "<IPython.core.display.HTML object>"
      ]
     },
     "execution_count": 42,
     "metadata": {},
     "output_type": "execute_result"
    }
   ],
   "source": [
    "slides.papers()"
   ]
  },
  {
   "cell_type": "code",
   "execution_count": 43,
   "metadata": {
    "slideshow": {
     "slide_type": "slide"
    }
   },
   "outputs": [
    {
     "data": {
      "text/html": [
       "<img src=\"images/community.jpg\" width=\"1000 px\" align=\"center\">"
      ],
      "text/plain": [
       "<IPython.core.display.HTML object>"
      ]
     },
     "execution_count": 43,
     "metadata": {},
     "output_type": "execute_result"
    }
   ],
   "source": [
    "slides.community()"
   ]
  },
  {
   "cell_type": "code",
   "execution_count": 44,
   "metadata": {},
   "outputs": [
    {
     "data": {
      "text/html": [
       "<img src=\"images/thanks.gif\" width=\"1000 px\" align=\"center\">"
      ],
      "text/plain": [
       "<IPython.core.display.HTML object>"
      ]
     },
     "execution_count": 44,
     "metadata": {},
     "output_type": "execute_result"
    }
   ],
   "source": [
    "slides.thanks()"
   ]
  },
  {
   "cell_type": "code",
   "execution_count": null,
   "metadata": {
    "collapsed": true
   },
   "outputs": [],
   "source": [
    "!pip show qiskit-terra"
   ]
  },
  {
   "cell_type": "code",
   "execution_count": null,
   "metadata": {
    "collapsed": true
   },
   "outputs": [],
   "source": []
  }
 ],
 "metadata": {
  "kernelspec": {
   "display_name": "QISKitenv",
   "language": "python",
   "name": "qiskitenv"
  },
  "language_info": {
   "codemirror_mode": {
    "name": "ipython",
    "version": 3
   },
   "file_extension": ".py",
   "mimetype": "text/x-python",
   "name": "python",
   "nbconvert_exporter": "python",
   "pygments_lexer": "ipython3",
   "version": "3.6.2"
  }
 },
 "nbformat": 4,
 "nbformat_minor": 2
}
